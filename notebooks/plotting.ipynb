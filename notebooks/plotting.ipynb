{
 "cells": [
  {
   "cell_type": "code",
   "execution_count": 1,
   "id": "7f1adec8-deaf-4b19-87f3-14964856149c",
   "metadata": {
    "tags": []
   },
   "outputs": [],
   "source": [
    "%matplotlib widget\n",
    "import matplotlib.pyplot as plt\n",
    "import matplotlib.transforms as transforms\n",
    "import pyforc.core as pfc\n",
    "import numpy as np\n",
    "\n",
    "plt.style.use('dark_background')"
   ]
  },
  {
   "cell_type": "code",
   "execution_count": 6,
   "id": "5510a1b0-f666-4f51-8413-e6284377c32a",
   "metadata": {},
   "outputs": [],
   "source": [
    "f = pfc.forc.Forc(\n",
    "    pfc.ingester.PMCIngester,\n",
    "    pfc.config.Config(\n",
    "        file_name='/home/pdmurray/Desktop/workspace/pyforc/tests/fixtures/hchb_forc',\n",
    "        interpolation='linear',\n",
    "        pipeline=[\n",
    "            pfc.ops.correct_drift,\n",
    "            pfc.ops.interpolate,\n",
    "            pfc.ops.correct_slope,\n",
    "            pfc.ops.normalize,\n",
    "            pfc.ops.compute_forc_distribution,\n",
    "        ],\n",
    "        h_sat=3500,\n",
    "    )\n",
    ")"
   ]
  },
  {
   "cell_type": "code",
   "execution_count": 7,
   "id": "f8bf0a2f-879b-4821-a683-47f2f3a85077",
   "metadata": {},
   "outputs": [
    {
     "data": {
      "application/vnd.jupyter.widget-view+json": {
       "model_id": "988577afbe404460b9a63c90504c0eab",
       "version_major": 2,
       "version_minor": 0
      },
      "text/plain": [
       "Canvas(toolbar=Toolbar(toolitems=[('Home', 'Reset original view', 'home', 'home'), ('Back', 'Back to previous …"
      ]
     },
     "metadata": {},
     "output_type": "display_data"
    },
    {
     "data": {
      "text/plain": [
       "<AxesSubplot:>"
      ]
     },
     "execution_count": 7,
     "metadata": {},
     "output_type": "execute_result"
    }
   ],
   "source": [
    "fig, ax = plt.subplots(figsize=(15, 10))\n",
    "pfc.plot.imshow(f, 'm', ax=ax)"
   ]
  },
  {
   "cell_type": "code",
   "execution_count": 8,
   "id": "85dc0442-5611-4e0c-a908-acd083e0cce4",
   "metadata": {},
   "outputs": [
    {
     "data": {
      "application/vnd.jupyter.widget-view+json": {
       "model_id": "36a9b34e41b444aeada7a84328c4bcbf",
       "version_major": 2,
       "version_minor": 0
      },
      "text/plain": [
       "Canvas(toolbar=Toolbar(toolitems=[('Home', 'Reset original view', 'home', 'home'), ('Back', 'Back to previous …"
      ]
     },
     "metadata": {},
     "output_type": "display_data"
    },
    {
     "data": {
      "text/plain": [
       "<AxesSubplot:>"
      ]
     },
     "execution_count": 8,
     "metadata": {},
     "output_type": "execute_result"
    }
   ],
   "source": [
    "pfc.plot.imshow(f, 'rho')"
   ]
  },
  {
   "cell_type": "code",
   "execution_count": 9,
   "id": "5c7a157f-7391-4c4d-b134-4d8f9db8a1fe",
   "metadata": {},
   "outputs": [
    {
     "data": {
      "application/vnd.jupyter.widget-view+json": {
       "model_id": "5f88eb4ded2a4eadac9b2878fe3175eb",
       "version_major": 2,
       "version_minor": 0
      },
      "text/plain": [
       "Canvas(toolbar=Toolbar(toolitems=[('Home', 'Reset original view', 'home', 'home'), ('Back', 'Back to previous …"
      ]
     },
     "metadata": {},
     "output_type": "display_data"
    },
    {
     "data": {
      "text/plain": [
       "<AxesSubplot:>"
      ]
     },
     "execution_count": 9,
     "metadata": {},
     "output_type": "execute_result"
    }
   ],
   "source": [
    "pfc.plot.curves(f)"
   ]
  },
  {
   "cell_type": "code",
   "execution_count": null,
   "id": "e2713311-d95e-4571-b79f-a428ce222256",
   "metadata": {},
   "outputs": [],
   "source": []
  }
 ],
 "metadata": {
  "kernelspec": {
   "display_name": "Python 3 (ipykernel)",
   "language": "python",
   "name": "python3"
  },
  "language_info": {
   "codemirror_mode": {
    "name": "ipython",
    "version": 3
   },
   "file_extension": ".py",
   "mimetype": "text/x-python",
   "name": "python",
   "nbconvert_exporter": "python",
   "pygments_lexer": "ipython3",
   "version": "3.9.1"
  }
 },
 "nbformat": 4,
 "nbformat_minor": 5
}
